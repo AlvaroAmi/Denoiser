{
 "cells": [
  {
   "cell_type": "markdown",
   "id": "c05651ec",
   "metadata": {},
   "source": [
    "# DENOISER\n"
   ]
  },
  {
   "cell_type": "markdown",
   "id": "974dee6b",
   "metadata": {},
   "source": [
    "## Dataset creation"
   ]
  },
  {
   "cell_type": "markdown",
   "id": "b1cac582",
   "metadata": {},
   "source": [
    "Dataset: https://www.kaggle.com/datasets/hsankesara/flickr-image-dataset"
   ]
  },
  {
   "cell_type": "code",
   "execution_count": 10,
   "id": "e79b0a21",
   "metadata": {},
   "outputs": [],
   "source": [
    "import os\n",
    "import cv2\n",
    "import numpy as np\n",
    "from tqdm import tqdm\n",
    "import random\n",
    "\n",
    "#Define the paths to the directories\n",
    "raw_data_dir = './flickr30k_images/flickr30k_images'\n",
    "output_dir = 'Newdata'\n",
    "original_dir = os.path.join(output_dir, 'original')\n",
    "clean_dir = os.path.join(output_dir, 'clean')\n",
    "noisy_dir = os.path.join(output_dir, 'noisy')\n",
    "\n",
    "os.makedirs(original_dir, exist_ok=True)\n",
    "os.makedirs(clean_dir, exist_ok=True)\n",
    "os.makedirs(noisy_dir, exist_ok=True)"
   ]
  },
  {
   "cell_type": "code",
   "execution_count": 11,
   "id": "e0c2839f",
   "metadata": {},
   "outputs": [],
   "source": [
    "def add_gaussian_noise(image, mean=0, sigma=25):\n",
    "    row, col, ch = image.shape\n",
    "    gauss = np.random.normal(mean, sigma, (row, col, ch))\n",
    "    noisy = image + gauss\n",
    "    noisy = np.clip(noisy, 0, 255)\n",
    "    return noisy.astype(np.uint8)\n",
    "\n",
    "def add_salt_and_pepper_noise(image, prob=0.05):\n",
    "    output = np.copy(image)\n",
    "    #Salt mode\n",
    "    salt_mask = np.random.random(image.shape) < prob/2\n",
    "    output[salt_mask] = 255\n",
    "    #Pepper mode\n",
    "    pepper_mask = np.random.random(image.shape) < prob/2\n",
    "    output[pepper_mask] = 0\n",
    "    return output\n",
    "\n",
    "def add_poisson_noise(image, scale=1.0):\n",
    "    noisy = np.random.poisson(image * scale) / scale\n",
    "    return np.clip(noisy, 0, 255).astype(np.uint8)\n",
    "\n",
    "def add_speckle_noise(image, std=0.1):\n",
    "    noise = np.random.normal(0, std, image.shape)\n",
    "    noisy = image + image * noise\n",
    "    return np.clip(noisy, 0, 255).astype(np.uint8)\n",
    "\n",
    "#List of noise functions and their parameters\n",
    "noise_functions = [\n",
    "    (add_gaussian_noise, {}),\n",
    "    (add_salt_and_pepper_noise, {}),\n",
    "    (add_poisson_noise, {'scale': 1.0}),\n",
    "    (add_speckle_noise, {})\n",
    "]"
   ]
  },
  {
   "cell_type": "code",
   "execution_count": null,
   "id": "9eaaf7fa",
   "metadata": {},
   "outputs": [
    {
     "name": "stderr",
     "output_type": "stream",
     "text": [
      "  0%|          | 0/10 [00:00<?, ?it/s]"
     ]
    },
    {
     "name": "stderr",
     "output_type": "stream",
     "text": [
      " 40%|████      | 4/10 [00:00<00:00, 33.62it/s]"
     ]
    },
    {
     "name": "stdout",
     "output_type": "stream",
     "text": [
      "Adding noise using add_speckle_noise with params {}\n",
      "Adding noise using add_speckle_noise with params {}\n",
      "Adding noise using add_speckle_noise with params {}\n",
      "Adding noise using add_speckle_noise with params {}\n",
      "Adding noise using add_speckle_noise with params {}\n",
      "Adding noise using add_speckle_noise with params {}\n",
      "Adding noise using add_speckle_noise with params {}\n",
      "Adding noise using add_speckle_noise with params {}\n"
     ]
    },
    {
     "name": "stderr",
     "output_type": "stream",
     "text": [
      "100%|██████████| 10/10 [00:00<00:00, 36.06it/s]"
     ]
    },
    {
     "name": "stdout",
     "output_type": "stream",
     "text": [
      "Adding noise using add_speckle_noise with params {}\n",
      "Adding noise using add_speckle_noise with params {}\n"
     ]
    },
    {
     "name": "stderr",
     "output_type": "stream",
     "text": [
      "\n"
     ]
    }
   ],
   "source": [
    "#Process images\n",
    "image_files = os.listdir(raw_data_dir)\n",
    "target_size = (256, 256)\n",
    "\n",
    "for idx, img_name in enumerate(tqdm(random.choices(image_files, k=10))):\n",
    "    if not img_name.lower().endswith(('.png', '.jpg', '.jpeg')):\n",
    "        continue\n",
    "        \n",
    "    #Read image\n",
    "    img_path = os.path.join(raw_data_dir, img_name)\n",
    "    img = cv2.imread(img_path)\n",
    "    if img is None:\n",
    "        continue\n",
    "\n",
    "    #Save image with original size\n",
    "    original_path = os.path.join(original_dir, f'{idx:05d}.png')\n",
    "    cv2.imwrite(original_path, img)\n",
    "        \n",
    "    #Resize image\n",
    "    img_resized = cv2.resize(img, target_size)\n",
    "    \n",
    "    #Save clean image\n",
    "    clean_path = os.path.join(clean_dir, f'{idx:05d}.png')\n",
    "    cv2.imwrite(clean_path, img_resized)\n",
    "    \n",
    "    #Select random noise function\n",
    "    noise_func, params = random.choice(noise_functions)\n",
    "    print(f'Adding noise using {noise_func.__name__} with params {params}')\n",
    "    \n",
    "    #Add noise to image\n",
    "    noisy_img = noise_func(img_resized, **params)\n",
    "    \n",
    "    #Save noisy image\n",
    "    noisy_path = os.path.join(noisy_dir, f'{idx:05d}.png')\n",
    "    cv2.imwrite(noisy_path, noisy_img)"
   ]
  },
  {
   "cell_type": "code",
   "execution_count": null,
   "id": "db13e780",
   "metadata": {},
   "outputs": [],
   "source": []
  }
 ],
 "metadata": {
  "kernelspec": {
   "display_name": "base",
   "language": "python",
   "name": "python3"
  },
  "language_info": {
   "codemirror_mode": {
    "name": "ipython",
    "version": 3
   },
   "file_extension": ".py",
   "mimetype": "text/x-python",
   "name": "python",
   "nbconvert_exporter": "python",
   "pygments_lexer": "ipython3",
   "version": "3.12.9"
  }
 },
 "nbformat": 4,
 "nbformat_minor": 5
}
