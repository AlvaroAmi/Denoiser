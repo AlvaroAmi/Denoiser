{
 "cells": [
  {
   "cell_type": "markdown",
   "id": "c05651ec",
   "metadata": {},
   "source": [
    "# DENOISER\n"
   ]
  },
  {
   "cell_type": "markdown",
   "id": "974dee6b",
   "metadata": {},
   "source": [
    "## Dataset creation"
   ]
  },
  {
   "cell_type": "markdown",
   "id": "b1cac582",
   "metadata": {},
   "source": [
    "Dataset: https://www.kaggle.com/datasets/hsankesara/flickr-image-dataset"
   ]
  },
  {
   "cell_type": "code",
   "execution_count": 1,
   "id": "e79b0a21",
   "metadata": {},
   "outputs": [],
   "source": [
    "import os\n",
    "import cv2\n",
    "import numpy as np\n",
    "from tqdm import tqdm\n",
    "import random\n",
    "\n",
    "#Define the paths to the directories\n",
    "raw_data_dir = 'rawdata'\n",
    "output_dir = 'Data'\n",
    "clean_dir = os.path.join(output_dir, 'clean')\n",
    "noisy_dir = os.path.join(output_dir, 'noisy')\n",
    "\n",
    "os.makedirs(clean_dir, exist_ok=True)\n",
    "os.makedirs(noisy_dir, exist_ok=True)"
   ]
  },
  {
   "cell_type": "code",
   "execution_count": 2,
   "id": "e0c2839f",
   "metadata": {},
   "outputs": [],
   "source": [
    "def add_gaussian_noise(image, mean=0, sigma=25):\n",
    "    row, col, ch = image.shape\n",
    "    gauss = np.random.normal(mean, sigma, (row, col, ch))\n",
    "    noisy = image + gauss\n",
    "    noisy = np.clip(noisy, 0, 255)\n",
    "    return noisy.astype(np.uint8)\n",
    "\n",
    "def add_salt_and_pepper_noise(image, prob=0.05):\n",
    "    output = np.copy(image)\n",
    "    #Salt mode\n",
    "    salt_mask = np.random.random(image.shape) < prob/2\n",
    "    output[salt_mask] = 255\n",
    "    #Pepper mode\n",
    "    pepper_mask = np.random.random(image.shape) < prob/2\n",
    "    output[pepper_mask] = 0\n",
    "    return output\n",
    "\n",
    "def add_poisson_noise(image, scale=1.0):\n",
    "    noisy = np.random.poisson(image * scale) / scale\n",
    "    return np.clip(noisy, 0, 255).astype(np.uint8)\n",
    "\n",
    "def add_speckle_noise(image, std=0.1):\n",
    "    noise = np.random.normal(0, std, image.shape)\n",
    "    noisy = image + image * noise\n",
    "    return np.clip(noisy, 0, 255).astype(np.uint8)\n",
    "\n",
    "#List of noise functions and their parameters\n",
    "noise_functions = [\n",
    "    (add_gaussian_noise, {}),\n",
    "    (add_salt_and_pepper_noise, {}),\n",
    "    (add_poisson_noise, {'scale': 1.0}),\n",
    "    (add_speckle_noise, {})\n",
    "]"
   ]
  },
  {
   "cell_type": "code",
   "execution_count": 3,
   "id": "9eaaf7fa",
   "metadata": {},
   "outputs": [
    {
     "name": "stderr",
     "output_type": "stream",
     "text": [
      "100%|██████████| 31785/31785 [07:59<00:00, 66.30it/s] \n"
     ]
    }
   ],
   "source": [
    "#Process images\n",
    "image_files = os.listdir(raw_data_dir)\n",
    "target_size = (256, 256)\n",
    "\n",
    "for idx, img_name in enumerate(tqdm(image_files)):\n",
    "    if not img_name.lower().endswith(('.png', '.jpg', '.jpeg')):\n",
    "        continue\n",
    "        \n",
    "    #Read image\n",
    "    img_path = os.path.join(raw_data_dir, img_name)\n",
    "    img = cv2.imread(img_path)\n",
    "    if img is None:\n",
    "        continue\n",
    "        \n",
    "    #Resize image\n",
    "    img_resized = cv2.resize(img, target_size)\n",
    "    \n",
    "    #Save clean image\n",
    "    clean_path = os.path.join(clean_dir, f'{idx:05d}.png')\n",
    "    cv2.imwrite(clean_path, img_resized)\n",
    "    \n",
    "    #Select random noise function\n",
    "    noise_func, params = random.choice(noise_functions)\n",
    "    \n",
    "    #Add noise to image\n",
    "    noisy_img = noise_func(img_resized, **params)\n",
    "    \n",
    "    #Save noisy image\n",
    "    noisy_path = os.path.join(noisy_dir, f'{idx:05d}.png')\n",
    "    cv2.imwrite(noisy_path, noisy_img)"
   ]
  },
  {
   "cell_type": "code",
   "execution_count": 4,
   "id": "2ffb76e0",
   "metadata": {},
   "outputs": [
    {
     "name": "stdout",
     "output_type": "stream",
     "text": [
      "Clean images generated: 31783\n",
      "Noisy images generated: 31783\n"
     ]
    }
   ],
   "source": [
    "#Check the number of images generated\n",
    "print(f\"Clean images generated: {len(os.listdir(clean_dir))}\")\n",
    "print(f\"Noisy images generated: {len(os.listdir(noisy_dir))}\")"
   ]
  }
 ],
 "metadata": {
  "kernelspec": {
   "display_name": "dl",
   "language": "python",
   "name": "python3"
  },
  "language_info": {
   "codemirror_mode": {
    "name": "ipython",
    "version": 3
   },
   "file_extension": ".py",
   "mimetype": "text/x-python",
   "name": "python",
   "nbconvert_exporter": "python",
   "pygments_lexer": "ipython3",
   "version": "3.10.12"
  }
 },
 "nbformat": 4,
 "nbformat_minor": 5
}
